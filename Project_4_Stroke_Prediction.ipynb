{
  "cells": [
    {
      "cell_type": "code",
      "execution_count": null,
      "id": "6df55a89",
      "metadata": {
        "id": "6df55a89"
      },
      "outputs": [],
      "source": [
        "# Import the modules\n",
        "import numpy as np\n",
        "import pandas as pd\n",
        "from pathlib import Path\n",
        "from sklearn.preprocessing import StandardScaler\n",
        "from sklearn.metrics import balanced_accuracy_score, confusion_matrix, classification_report\n",
        "import tensorflow as tf\n",
        "import warnings\n",
        "warnings.filterwarnings('ignore')"
      ]
    },
    {
      "cell_type": "markdown",
      "id": "7c9538ee",
      "metadata": {
        "id": "7c9538ee"
      },
      "source": [
        "Step 1: Load and Read the healthcare-stroke-data.csv data from Github URL into a Pandas DataFrame."
      ]
    },
    {
      "cell_type": "code",
      "execution_count": null,
      "id": "5fe75fa0",
      "metadata": {
        "id": "5fe75fa0",
        "outputId": "7428ed8f-88fc-4d6b-a131-aa99dfaeb7aa",
        "colab": {
          "base_uri": "https://localhost:8080/",
          "height": 206
        }
      },
      "outputs": [
        {
          "output_type": "execute_result",
          "data": {
            "text/plain": [
              "      id  gender   age  hypertension  heart_disease ever_married  \\\n",
              "0   9046    Male  67.0             0              1          Yes   \n",
              "1  51676  Female  61.0             0              0          Yes   \n",
              "2  31112    Male  80.0             0              1          Yes   \n",
              "3  60182  Female  49.0             0              0          Yes   \n",
              "4   1665  Female  79.0             1              0          Yes   \n",
              "\n",
              "       work_type Residence_type  avg_glucose_level   bmi   smoking_status  \\\n",
              "0        Private          Urban             228.69  36.6  formerly smoked   \n",
              "1  Self-employed          Rural             202.21   NaN     never smoked   \n",
              "2        Private          Rural             105.92  32.5     never smoked   \n",
              "3        Private          Urban             171.23  34.4           smokes   \n",
              "4  Self-employed          Rural             174.12  24.0     never smoked   \n",
              "\n",
              "   stroke  \n",
              "0       1  \n",
              "1       1  \n",
              "2       1  \n",
              "3       1  \n",
              "4       1  "
            ],
            "text/html": [
              "\n",
              "  <div id=\"df-fbb08372-c1cd-4614-b986-7826e588e3a8\" class=\"colab-df-container\">\n",
              "    <div>\n",
              "<style scoped>\n",
              "    .dataframe tbody tr th:only-of-type {\n",
              "        vertical-align: middle;\n",
              "    }\n",
              "\n",
              "    .dataframe tbody tr th {\n",
              "        vertical-align: top;\n",
              "    }\n",
              "\n",
              "    .dataframe thead th {\n",
              "        text-align: right;\n",
              "    }\n",
              "</style>\n",
              "<table border=\"1\" class=\"dataframe\">\n",
              "  <thead>\n",
              "    <tr style=\"text-align: right;\">\n",
              "      <th></th>\n",
              "      <th>id</th>\n",
              "      <th>gender</th>\n",
              "      <th>age</th>\n",
              "      <th>hypertension</th>\n",
              "      <th>heart_disease</th>\n",
              "      <th>ever_married</th>\n",
              "      <th>work_type</th>\n",
              "      <th>Residence_type</th>\n",
              "      <th>avg_glucose_level</th>\n",
              "      <th>bmi</th>\n",
              "      <th>smoking_status</th>\n",
              "      <th>stroke</th>\n",
              "    </tr>\n",
              "  </thead>\n",
              "  <tbody>\n",
              "    <tr>\n",
              "      <th>0</th>\n",
              "      <td>9046</td>\n",
              "      <td>Male</td>\n",
              "      <td>67.0</td>\n",
              "      <td>0</td>\n",
              "      <td>1</td>\n",
              "      <td>Yes</td>\n",
              "      <td>Private</td>\n",
              "      <td>Urban</td>\n",
              "      <td>228.69</td>\n",
              "      <td>36.6</td>\n",
              "      <td>formerly smoked</td>\n",
              "      <td>1</td>\n",
              "    </tr>\n",
              "    <tr>\n",
              "      <th>1</th>\n",
              "      <td>51676</td>\n",
              "      <td>Female</td>\n",
              "      <td>61.0</td>\n",
              "      <td>0</td>\n",
              "      <td>0</td>\n",
              "      <td>Yes</td>\n",
              "      <td>Self-employed</td>\n",
              "      <td>Rural</td>\n",
              "      <td>202.21</td>\n",
              "      <td>NaN</td>\n",
              "      <td>never smoked</td>\n",
              "      <td>1</td>\n",
              "    </tr>\n",
              "    <tr>\n",
              "      <th>2</th>\n",
              "      <td>31112</td>\n",
              "      <td>Male</td>\n",
              "      <td>80.0</td>\n",
              "      <td>0</td>\n",
              "      <td>1</td>\n",
              "      <td>Yes</td>\n",
              "      <td>Private</td>\n",
              "      <td>Rural</td>\n",
              "      <td>105.92</td>\n",
              "      <td>32.5</td>\n",
              "      <td>never smoked</td>\n",
              "      <td>1</td>\n",
              "    </tr>\n",
              "    <tr>\n",
              "      <th>3</th>\n",
              "      <td>60182</td>\n",
              "      <td>Female</td>\n",
              "      <td>49.0</td>\n",
              "      <td>0</td>\n",
              "      <td>0</td>\n",
              "      <td>Yes</td>\n",
              "      <td>Private</td>\n",
              "      <td>Urban</td>\n",
              "      <td>171.23</td>\n",
              "      <td>34.4</td>\n",
              "      <td>smokes</td>\n",
              "      <td>1</td>\n",
              "    </tr>\n",
              "    <tr>\n",
              "      <th>4</th>\n",
              "      <td>1665</td>\n",
              "      <td>Female</td>\n",
              "      <td>79.0</td>\n",
              "      <td>1</td>\n",
              "      <td>0</td>\n",
              "      <td>Yes</td>\n",
              "      <td>Self-employed</td>\n",
              "      <td>Rural</td>\n",
              "      <td>174.12</td>\n",
              "      <td>24.0</td>\n",
              "      <td>never smoked</td>\n",
              "      <td>1</td>\n",
              "    </tr>\n",
              "  </tbody>\n",
              "</table>\n",
              "</div>\n",
              "    <div class=\"colab-df-buttons\">\n",
              "\n",
              "  <div class=\"colab-df-container\">\n",
              "    <button class=\"colab-df-convert\" onclick=\"convertToInteractive('df-fbb08372-c1cd-4614-b986-7826e588e3a8')\"\n",
              "            title=\"Convert this dataframe to an interactive table.\"\n",
              "            style=\"display:none;\">\n",
              "\n",
              "  <svg xmlns=\"http://www.w3.org/2000/svg\" height=\"24px\" viewBox=\"0 -960 960 960\">\n",
              "    <path d=\"M120-120v-720h720v720H120Zm60-500h600v-160H180v160Zm220 220h160v-160H400v160Zm0 220h160v-160H400v160ZM180-400h160v-160H180v160Zm440 0h160v-160H620v160ZM180-180h160v-160H180v160Zm440 0h160v-160H620v160Z\"/>\n",
              "  </svg>\n",
              "    </button>\n",
              "\n",
              "  <style>\n",
              "    .colab-df-container {\n",
              "      display:flex;\n",
              "      gap: 12px;\n",
              "    }\n",
              "\n",
              "    .colab-df-convert {\n",
              "      background-color: #E8F0FE;\n",
              "      border: none;\n",
              "      border-radius: 50%;\n",
              "      cursor: pointer;\n",
              "      display: none;\n",
              "      fill: #1967D2;\n",
              "      height: 32px;\n",
              "      padding: 0 0 0 0;\n",
              "      width: 32px;\n",
              "    }\n",
              "\n",
              "    .colab-df-convert:hover {\n",
              "      background-color: #E2EBFA;\n",
              "      box-shadow: 0px 1px 2px rgba(60, 64, 67, 0.3), 0px 1px 3px 1px rgba(60, 64, 67, 0.15);\n",
              "      fill: #174EA6;\n",
              "    }\n",
              "\n",
              "    .colab-df-buttons div {\n",
              "      margin-bottom: 4px;\n",
              "    }\n",
              "\n",
              "    [theme=dark] .colab-df-convert {\n",
              "      background-color: #3B4455;\n",
              "      fill: #D2E3FC;\n",
              "    }\n",
              "\n",
              "    [theme=dark] .colab-df-convert:hover {\n",
              "      background-color: #434B5C;\n",
              "      box-shadow: 0px 1px 3px 1px rgba(0, 0, 0, 0.15);\n",
              "      filter: drop-shadow(0px 1px 2px rgba(0, 0, 0, 0.3));\n",
              "      fill: #FFFFFF;\n",
              "    }\n",
              "  </style>\n",
              "\n",
              "    <script>\n",
              "      const buttonEl =\n",
              "        document.querySelector('#df-fbb08372-c1cd-4614-b986-7826e588e3a8 button.colab-df-convert');\n",
              "      buttonEl.style.display =\n",
              "        google.colab.kernel.accessAllowed ? 'block' : 'none';\n",
              "\n",
              "      async function convertToInteractive(key) {\n",
              "        const element = document.querySelector('#df-fbb08372-c1cd-4614-b986-7826e588e3a8');\n",
              "        const dataTable =\n",
              "          await google.colab.kernel.invokeFunction('convertToInteractive',\n",
              "                                                    [key], {});\n",
              "        if (!dataTable) return;\n",
              "\n",
              "        const docLinkHtml = 'Like what you see? Visit the ' +\n",
              "          '<a target=\"_blank\" href=https://colab.research.google.com/notebooks/data_table.ipynb>data table notebook</a>'\n",
              "          + ' to learn more about interactive tables.';\n",
              "        element.innerHTML = '';\n",
              "        dataTable['output_type'] = 'display_data';\n",
              "        await google.colab.output.renderOutput(dataTable, element);\n",
              "        const docLink = document.createElement('div');\n",
              "        docLink.innerHTML = docLinkHtml;\n",
              "        element.appendChild(docLink);\n",
              "      }\n",
              "    </script>\n",
              "  </div>\n",
              "\n",
              "\n",
              "<div id=\"df-aa73dd47-d55f-4b98-828c-387b9cc93155\">\n",
              "  <button class=\"colab-df-quickchart\" onclick=\"quickchart('df-aa73dd47-d55f-4b98-828c-387b9cc93155')\"\n",
              "            title=\"Suggest charts.\"\n",
              "            style=\"display:none;\">\n",
              "\n",
              "<svg xmlns=\"http://www.w3.org/2000/svg\" height=\"24px\"viewBox=\"0 0 24 24\"\n",
              "     width=\"24px\">\n",
              "    <g>\n",
              "        <path d=\"M19 3H5c-1.1 0-2 .9-2 2v14c0 1.1.9 2 2 2h14c1.1 0 2-.9 2-2V5c0-1.1-.9-2-2-2zM9 17H7v-7h2v7zm4 0h-2V7h2v10zm4 0h-2v-4h2v4z\"/>\n",
              "    </g>\n",
              "</svg>\n",
              "  </button>\n",
              "\n",
              "<style>\n",
              "  .colab-df-quickchart {\n",
              "      --bg-color: #E8F0FE;\n",
              "      --fill-color: #1967D2;\n",
              "      --hover-bg-color: #E2EBFA;\n",
              "      --hover-fill-color: #174EA6;\n",
              "      --disabled-fill-color: #AAA;\n",
              "      --disabled-bg-color: #DDD;\n",
              "  }\n",
              "\n",
              "  [theme=dark] .colab-df-quickchart {\n",
              "      --bg-color: #3B4455;\n",
              "      --fill-color: #D2E3FC;\n",
              "      --hover-bg-color: #434B5C;\n",
              "      --hover-fill-color: #FFFFFF;\n",
              "      --disabled-bg-color: #3B4455;\n",
              "      --disabled-fill-color: #666;\n",
              "  }\n",
              "\n",
              "  .colab-df-quickchart {\n",
              "    background-color: var(--bg-color);\n",
              "    border: none;\n",
              "    border-radius: 50%;\n",
              "    cursor: pointer;\n",
              "    display: none;\n",
              "    fill: var(--fill-color);\n",
              "    height: 32px;\n",
              "    padding: 0;\n",
              "    width: 32px;\n",
              "  }\n",
              "\n",
              "  .colab-df-quickchart:hover {\n",
              "    background-color: var(--hover-bg-color);\n",
              "    box-shadow: 0 1px 2px rgba(60, 64, 67, 0.3), 0 1px 3px 1px rgba(60, 64, 67, 0.15);\n",
              "    fill: var(--button-hover-fill-color);\n",
              "  }\n",
              "\n",
              "  .colab-df-quickchart-complete:disabled,\n",
              "  .colab-df-quickchart-complete:disabled:hover {\n",
              "    background-color: var(--disabled-bg-color);\n",
              "    fill: var(--disabled-fill-color);\n",
              "    box-shadow: none;\n",
              "  }\n",
              "\n",
              "  .colab-df-spinner {\n",
              "    border: 2px solid var(--fill-color);\n",
              "    border-color: transparent;\n",
              "    border-bottom-color: var(--fill-color);\n",
              "    animation:\n",
              "      spin 1s steps(1) infinite;\n",
              "  }\n",
              "\n",
              "  @keyframes spin {\n",
              "    0% {\n",
              "      border-color: transparent;\n",
              "      border-bottom-color: var(--fill-color);\n",
              "      border-left-color: var(--fill-color);\n",
              "    }\n",
              "    20% {\n",
              "      border-color: transparent;\n",
              "      border-left-color: var(--fill-color);\n",
              "      border-top-color: var(--fill-color);\n",
              "    }\n",
              "    30% {\n",
              "      border-color: transparent;\n",
              "      border-left-color: var(--fill-color);\n",
              "      border-top-color: var(--fill-color);\n",
              "      border-right-color: var(--fill-color);\n",
              "    }\n",
              "    40% {\n",
              "      border-color: transparent;\n",
              "      border-right-color: var(--fill-color);\n",
              "      border-top-color: var(--fill-color);\n",
              "    }\n",
              "    60% {\n",
              "      border-color: transparent;\n",
              "      border-right-color: var(--fill-color);\n",
              "    }\n",
              "    80% {\n",
              "      border-color: transparent;\n",
              "      border-right-color: var(--fill-color);\n",
              "      border-bottom-color: var(--fill-color);\n",
              "    }\n",
              "    90% {\n",
              "      border-color: transparent;\n",
              "      border-bottom-color: var(--fill-color);\n",
              "    }\n",
              "  }\n",
              "</style>\n",
              "\n",
              "  <script>\n",
              "    async function quickchart(key) {\n",
              "      const quickchartButtonEl =\n",
              "        document.querySelector('#' + key + ' button');\n",
              "      quickchartButtonEl.disabled = true;  // To prevent multiple clicks.\n",
              "      quickchartButtonEl.classList.add('colab-df-spinner');\n",
              "      try {\n",
              "        const charts = await google.colab.kernel.invokeFunction(\n",
              "            'suggestCharts', [key], {});\n",
              "      } catch (error) {\n",
              "        console.error('Error during call to suggestCharts:', error);\n",
              "      }\n",
              "      quickchartButtonEl.classList.remove('colab-df-spinner');\n",
              "      quickchartButtonEl.classList.add('colab-df-quickchart-complete');\n",
              "    }\n",
              "    (() => {\n",
              "      let quickchartButtonEl =\n",
              "        document.querySelector('#df-aa73dd47-d55f-4b98-828c-387b9cc93155 button');\n",
              "      quickchartButtonEl.style.display =\n",
              "        google.colab.kernel.accessAllowed ? 'block' : 'none';\n",
              "    })();\n",
              "  </script>\n",
              "</div>\n",
              "    </div>\n",
              "  </div>\n"
            ]
          },
          "metadata": {},
          "execution_count": 61
        }
      ],
      "source": [
        "# Read the healthcare-stroke-data CSV file from URL into a Pandas DataFrame\n",
        "url = 'https://raw.githubusercontent.com/GeorgeSKalad/Project-4-Stroke-Prediction-/main/Resources/healthcare-stroke-data.csv'\n",
        "df = pd.read_csv(url)\n",
        "# Review the DataFrame\n",
        "df.head()"
      ]
    },
    {
      "cell_type": "code",
      "execution_count": null,
      "id": "492ca2be",
      "metadata": {
        "id": "492ca2be",
        "outputId": "b413acb1-fd18-433a-8615-5ffb07b00350",
        "colab": {
          "base_uri": "https://localhost:8080/"
        }
      },
      "outputs": [
        {
          "output_type": "stream",
          "name": "stdout",
          "text": [
            "         id  gender  age  hypertension  heart_disease  ever_married  \\\n",
            "0      9046       1   67             0              1             1   \n",
            "1     51676       0   61             0              0             1   \n",
            "2     31112       1   80             0              1             1   \n",
            "3     60182       0   49             0              0             1   \n",
            "4      1665       0   79             1              0             1   \n",
            "...     ...     ...  ...           ...            ...           ...   \n",
            "5105  18234       0   80             1              0             1   \n",
            "5106  44873       0   81             0              0             1   \n",
            "5107  19723       0   35             0              0             1   \n",
            "5108  37544       1   51             0              0             1   \n",
            "5109  44679       0   44             0              0             1   \n",
            "\n",
            "      work_type  Residence_type  avg_glucose_level   bmi  smoking_status  \\\n",
            "0             2               1             228.69  36.6               1   \n",
            "1             3               0             202.21   NaN               2   \n",
            "2             2               0             105.92  32.5               2   \n",
            "3             2               1             171.23  34.4               3   \n",
            "4             3               0             174.12  24.0               2   \n",
            "...         ...             ...                ...   ...             ...   \n",
            "5105          2               1              83.75   NaN               2   \n",
            "5106          3               1             125.20  40.0               2   \n",
            "5107          3               0              82.99  30.6               2   \n",
            "5108          2               0             166.29  25.6               1   \n",
            "5109          0               1              85.28  26.2               0   \n",
            "\n",
            "      stroke  \n",
            "0          1  \n",
            "1          1  \n",
            "2          1  \n",
            "3          1  \n",
            "4          1  \n",
            "...      ...  \n",
            "5105       0  \n",
            "5106       0  \n",
            "5107       0  \n",
            "5108       0  \n",
            "5109       0  \n",
            "\n",
            "[5110 rows x 12 columns]\n"
          ]
        }
      ],
      "source": [
        "# Convert all categorical columns in the DataFrame to numeric values.\n",
        "\n",
        "# Convert the 'gender' column to a numeric value\n",
        "df['gender'] = df['gender'].astype('category').cat.codes\n",
        "# Convert the 'age' column to a numeric value\n",
        "df['age'] = df['age'].astype('int')\n",
        "# Convert the 'hypertension' column to a numeric value\n",
        "df['hypertension'] = df['hypertension'].astype('int')\n",
        "# Convert the 'heart_disease' column to a numeric value\n",
        "df['heart_disease'] = df['heart_disease'].astype('int')\n",
        "# Convert the 'ever_married' column to a numeric value\n",
        "df['ever_married'] = df['ever_married'].astype('category').cat.codes\n",
        "# Convert the 'work_type' column to a numeric value\n",
        "df['work_type'] = df['work_type'].astype('category').cat.codes\n",
        "# Convert the 'Residence_type' column to a numeric value\n",
        "df['Residence_type'] = df['Residence_type'].astype('category').cat.codes\n",
        "# Convert the 'avg_glucose_level' column to a numeric value\n",
        "df['avg_glucose_level'] = df['avg_glucose_level'].astype('float')\n",
        "# Convert the 'bmi' column to a numeric value\n",
        "df['bmi'] = df['bmi'].astype('float')\n",
        "# Convert the 'smoking_status' column to a numeric value\n",
        "df['smoking_status'] = df['smoking_status'].astype('category').cat.codes\n",
        "# Print the converted data\n",
        "print(df)"
      ]
    },
    {
      "cell_type": "code",
      "execution_count": null,
      "id": "48c7a00d",
      "metadata": {
        "id": "48c7a00d",
        "outputId": "d598c6db-bbfd-479c-b571-e0ca4cdb9198",
        "colab": {
          "base_uri": "https://localhost:8080/"
        }
      },
      "outputs": [
        {
          "output_type": "stream",
          "name": "stdout",
          "text": [
            "         id  gender  age  hypertension  heart_disease  ever_married  \\\n",
            "0      9046       1   67             0              1             1   \n",
            "2     31112       1   80             0              1             1   \n",
            "3     60182       0   49             0              0             1   \n",
            "4      1665       0   79             1              0             1   \n",
            "5     56669       1   81             0              0             1   \n",
            "...     ...     ...  ...           ...            ...           ...   \n",
            "5104  14180       0   13             0              0             0   \n",
            "5106  44873       0   81             0              0             1   \n",
            "5107  19723       0   35             0              0             1   \n",
            "5108  37544       1   51             0              0             1   \n",
            "5109  44679       0   44             0              0             1   \n",
            "\n",
            "      work_type  Residence_type  avg_glucose_level   bmi  smoking_status  \\\n",
            "0             2               1             228.69  36.6               1   \n",
            "2             2               0             105.92  32.5               2   \n",
            "3             2               1             171.23  34.4               3   \n",
            "4             3               0             174.12  24.0               2   \n",
            "5             2               1             186.21  29.0               1   \n",
            "...         ...             ...                ...   ...             ...   \n",
            "5104          4               0             103.08  18.6               0   \n",
            "5106          3               1             125.20  40.0               2   \n",
            "5107          3               0              82.99  30.6               2   \n",
            "5108          2               0             166.29  25.6               1   \n",
            "5109          0               1              85.28  26.2               0   \n",
            "\n",
            "      stroke  \n",
            "0          1  \n",
            "2          1  \n",
            "3          1  \n",
            "4          1  \n",
            "5          1  \n",
            "...      ...  \n",
            "5104       0  \n",
            "5106       0  \n",
            "5107       0  \n",
            "5108       0  \n",
            "5109       0  \n",
            "\n",
            "[4909 rows x 12 columns]\n"
          ]
        }
      ],
      "source": [
        "# Drop rows with NaN values\n",
        "df_cleaned = df.dropna()\n",
        "print(df_cleaned)\n"
      ]
    },
    {
      "cell_type": "markdown",
      "id": "ec387420",
      "metadata": {
        "id": "ec387420"
      },
      "source": [
        "Step 2: Create the labels set (y) from the “stroke” column, and then create the features (X) DataFrame from the remaining columns."
      ]
    },
    {
      "cell_type": "code",
      "execution_count": null,
      "id": "ea194f2a",
      "metadata": {
        "id": "ea194f2a"
      },
      "outputs": [],
      "source": [
        "# Separate the data into labels and features\n",
        "\n",
        "# Separate the y variable, the labels\n",
        "y = df_cleaned[\"stroke\"].values\n",
        "\n",
        "# Separate the X variable, the features\n",
        "X = df_cleaned.drop(columns=\"stroke\").values"
      ]
    },
    {
      "cell_type": "code",
      "execution_count": null,
      "id": "3ca7a018",
      "metadata": {
        "id": "3ca7a018",
        "outputId": "9a732819-9f78-468f-d9b2-701ecdc14068",
        "colab": {
          "base_uri": "https://localhost:8080/"
        }
      },
      "outputs": [
        {
          "output_type": "stream",
          "name": "stdout",
          "text": [
            "[1 1 1 ... 0 0 0]\n"
          ]
        }
      ],
      "source": [
        "# Review the y variable Series\n",
        "print(y)"
      ]
    },
    {
      "cell_type": "code",
      "execution_count": null,
      "id": "11ae37d8",
      "metadata": {
        "id": "11ae37d8",
        "outputId": "b8137f8b-8470-4451-b4dc-3e1420a412d8",
        "colab": {
          "base_uri": "https://localhost:8080/"
        }
      },
      "outputs": [
        {
          "output_type": "execute_result",
          "data": {
            "text/plain": [
              "array([[9.0460e+03, 1.0000e+00, 6.7000e+01, ..., 2.2869e+02, 3.6600e+01,\n",
              "        1.0000e+00],\n",
              "       [3.1112e+04, 1.0000e+00, 8.0000e+01, ..., 1.0592e+02, 3.2500e+01,\n",
              "        2.0000e+00],\n",
              "       [6.0182e+04, 0.0000e+00, 4.9000e+01, ..., 1.7123e+02, 3.4400e+01,\n",
              "        3.0000e+00],\n",
              "       ...,\n",
              "       [1.9723e+04, 0.0000e+00, 3.5000e+01, ..., 8.2990e+01, 3.0600e+01,\n",
              "        2.0000e+00],\n",
              "       [3.7544e+04, 1.0000e+00, 5.1000e+01, ..., 1.6629e+02, 2.5600e+01,\n",
              "        1.0000e+00],\n",
              "       [4.4679e+04, 0.0000e+00, 4.4000e+01, ..., 8.5280e+01, 2.6200e+01,\n",
              "        0.0000e+00]])"
            ]
          },
          "metadata": {},
          "execution_count": 66
        }
      ],
      "source": [
        "# Review the X variable DataFrame\n",
        "X"
      ]
    },
    {
      "cell_type": "markdown",
      "id": "78dbae52",
      "metadata": {
        "id": "78dbae52"
      },
      "source": [
        "Step 3: Check the balance of the labels variable (`y`) by using the `value_counts` function.\n"
      ]
    },
    {
      "cell_type": "code",
      "execution_count": null,
      "id": "325219cd",
      "metadata": {
        "id": "325219cd",
        "colab": {
          "base_uri": "https://localhost:8080/"
        },
        "outputId": "4e294fc2-0d12-487a-e94f-2b406b9c8aac"
      },
      "outputs": [
        {
          "output_type": "stream",
          "name": "stdout",
          "text": [
            "[1 1 1 ... 0 0 0]\n"
          ]
        }
      ],
      "source": [
        "# Check the balance of target values\n",
        "print(y)"
      ]
    },
    {
      "cell_type": "code",
      "execution_count": null,
      "id": "939aeb61",
      "metadata": {
        "id": "939aeb61"
      },
      "outputs": [],
      "source": [
        "# Import the train_test_learn module\n",
        "from sklearn.model_selection import train_test_split\n",
        "\n",
        "# Split the data using train_test_split\n",
        "# Assign a random_state of 1 to the function\n",
        "\n",
        "X_train, X_test, y_train, y_test = train_test_split(X,\n",
        "                                                    y,\n",
        "                                                    random_state=1)"
      ]
    },
    {
      "cell_type": "markdown",
      "id": "5a3ea3b8",
      "metadata": {
        "id": "5a3ea3b8"
      },
      "source": [
        "## Create a Logistic Regression Model with the Original Data"
      ]
    },
    {
      "cell_type": "code",
      "execution_count": null,
      "id": "62cb2aa7",
      "metadata": {
        "id": "62cb2aa7"
      },
      "outputs": [],
      "source": [
        "# Import Logistic Regression module\n",
        "from sklearn.linear_model import LogisticRegression\n",
        "\n",
        "# Create a Logistic Regression model\n",
        "model = LogisticRegression(random_state=1)\n",
        "\n",
        "\n"
      ]
    },
    {
      "cell_type": "code",
      "execution_count": null,
      "id": "107ad42d",
      "metadata": {
        "id": "107ad42d",
        "outputId": "35bdb72a-1293-43af-cb45-cbef883a00be",
        "colab": {
          "base_uri": "https://localhost:8080/",
          "height": 75
        }
      },
      "outputs": [
        {
          "output_type": "execute_result",
          "data": {
            "text/plain": [
              "LogisticRegression(random_state=1)"
            ],
            "text/html": [
              "<style>#sk-container-id-1 {color: black;background-color: white;}#sk-container-id-1 pre{padding: 0;}#sk-container-id-1 div.sk-toggleable {background-color: white;}#sk-container-id-1 label.sk-toggleable__label {cursor: pointer;display: block;width: 100%;margin-bottom: 0;padding: 0.3em;box-sizing: border-box;text-align: center;}#sk-container-id-1 label.sk-toggleable__label-arrow:before {content: \"▸\";float: left;margin-right: 0.25em;color: #696969;}#sk-container-id-1 label.sk-toggleable__label-arrow:hover:before {color: black;}#sk-container-id-1 div.sk-estimator:hover label.sk-toggleable__label-arrow:before {color: black;}#sk-container-id-1 div.sk-toggleable__content {max-height: 0;max-width: 0;overflow: hidden;text-align: left;background-color: #f0f8ff;}#sk-container-id-1 div.sk-toggleable__content pre {margin: 0.2em;color: black;border-radius: 0.25em;background-color: #f0f8ff;}#sk-container-id-1 input.sk-toggleable__control:checked~div.sk-toggleable__content {max-height: 200px;max-width: 100%;overflow: auto;}#sk-container-id-1 input.sk-toggleable__control:checked~label.sk-toggleable__label-arrow:before {content: \"▾\";}#sk-container-id-1 div.sk-estimator input.sk-toggleable__control:checked~label.sk-toggleable__label {background-color: #d4ebff;}#sk-container-id-1 div.sk-label input.sk-toggleable__control:checked~label.sk-toggleable__label {background-color: #d4ebff;}#sk-container-id-1 input.sk-hidden--visually {border: 0;clip: rect(1px 1px 1px 1px);clip: rect(1px, 1px, 1px, 1px);height: 1px;margin: -1px;overflow: hidden;padding: 0;position: absolute;width: 1px;}#sk-container-id-1 div.sk-estimator {font-family: monospace;background-color: #f0f8ff;border: 1px dotted black;border-radius: 0.25em;box-sizing: border-box;margin-bottom: 0.5em;}#sk-container-id-1 div.sk-estimator:hover {background-color: #d4ebff;}#sk-container-id-1 div.sk-parallel-item::after {content: \"\";width: 100%;border-bottom: 1px solid gray;flex-grow: 1;}#sk-container-id-1 div.sk-label:hover label.sk-toggleable__label {background-color: #d4ebff;}#sk-container-id-1 div.sk-serial::before {content: \"\";position: absolute;border-left: 1px solid gray;box-sizing: border-box;top: 0;bottom: 0;left: 50%;z-index: 0;}#sk-container-id-1 div.sk-serial {display: flex;flex-direction: column;align-items: center;background-color: white;padding-right: 0.2em;padding-left: 0.2em;position: relative;}#sk-container-id-1 div.sk-item {position: relative;z-index: 1;}#sk-container-id-1 div.sk-parallel {display: flex;align-items: stretch;justify-content: center;background-color: white;position: relative;}#sk-container-id-1 div.sk-item::before, #sk-container-id-1 div.sk-parallel-item::before {content: \"\";position: absolute;border-left: 1px solid gray;box-sizing: border-box;top: 0;bottom: 0;left: 50%;z-index: -1;}#sk-container-id-1 div.sk-parallel-item {display: flex;flex-direction: column;z-index: 1;position: relative;background-color: white;}#sk-container-id-1 div.sk-parallel-item:first-child::after {align-self: flex-end;width: 50%;}#sk-container-id-1 div.sk-parallel-item:last-child::after {align-self: flex-start;width: 50%;}#sk-container-id-1 div.sk-parallel-item:only-child::after {width: 0;}#sk-container-id-1 div.sk-dashed-wrapped {border: 1px dashed gray;margin: 0 0.4em 0.5em 0.4em;box-sizing: border-box;padding-bottom: 0.4em;background-color: white;}#sk-container-id-1 div.sk-label label {font-family: monospace;font-weight: bold;display: inline-block;line-height: 1.2em;}#sk-container-id-1 div.sk-label-container {text-align: center;}#sk-container-id-1 div.sk-container {/* jupyter's `normalize.less` sets `[hidden] { display: none; }` but bootstrap.min.css set `[hidden] { display: none !important; }` so we also need the `!important` here to be able to override the default hidden behavior on the sphinx rendered scikit-learn.org. See: https://github.com/scikit-learn/scikit-learn/issues/21755 */display: inline-block !important;position: relative;}#sk-container-id-1 div.sk-text-repr-fallback {display: none;}</style><div id=\"sk-container-id-1\" class=\"sk-top-container\"><div class=\"sk-text-repr-fallback\"><pre>LogisticRegression(random_state=1)</pre><b>In a Jupyter environment, please rerun this cell to show the HTML representation or trust the notebook. <br />On GitHub, the HTML representation is unable to render, please try loading this page with nbviewer.org.</b></div><div class=\"sk-container\" hidden><div class=\"sk-item\"><div class=\"sk-estimator sk-toggleable\"><input class=\"sk-toggleable__control sk-hidden--visually\" id=\"sk-estimator-id-1\" type=\"checkbox\" checked><label for=\"sk-estimator-id-1\" class=\"sk-toggleable__label sk-toggleable__label-arrow\">LogisticRegression</label><div class=\"sk-toggleable__content\"><pre>LogisticRegression(random_state=1)</pre></div></div></div></div></div>"
            ]
          },
          "metadata": {},
          "execution_count": 70
        }
      ],
      "source": [
        "# Fit the model to the training data\n",
        "model.fit(X_train, y_train)\n",
        "\n"
      ]
    },
    {
      "cell_type": "code",
      "execution_count": null,
      "id": "9210abeb",
      "metadata": {
        "id": "9210abeb",
        "outputId": "e20b8e23-7e9e-4ab8-e14d-7d8e7ee283d7",
        "colab": {
          "base_uri": "https://localhost:8080/"
        }
      },
      "outputs": [
        {
          "output_type": "stream",
          "name": "stdout",
          "text": [
            "Balanced Accuracy: 0.51\n",
            "Confusion Matrix:\n",
            "[[1169    1]\n",
            " [  57    1]]\n",
            "Classification Report:\n",
            "              precision    recall  f1-score   support\n",
            "\n",
            "           0       0.95      1.00      0.98      1170\n",
            "           1       0.50      0.02      0.03        58\n",
            "\n",
            "    accuracy                           0.95      1228\n",
            "   macro avg       0.73      0.51      0.50      1228\n",
            "weighted avg       0.93      0.95      0.93      1228\n",
            "\n"
          ]
        }
      ],
      "source": [
        "# Make predictions on the test data\n",
        "y_pred = model.predict(X_test)\n",
        "\n",
        "# Calculate balanced accuracy\n",
        "balanced_accuracy = balanced_accuracy_score(y_test, y_pred)\n",
        "print(f\"Balanced Accuracy: {balanced_accuracy:.2f}\")\n",
        "\n",
        "# Generate a confusion matrix\n",
        "confusion = confusion_matrix(y_test, y_pred)\n",
        "print(\"Confusion Matrix:\")\n",
        "print(confusion)\n",
        "\n",
        "# Generate a classification report\n",
        "classification_rep = classification_report(y_test, y_pred)\n",
        "print(\"Classification Report:\")\n",
        "print(classification_rep)"
      ]
    },
    {
      "cell_type": "code",
      "source": [
        "# Create a StandardScaler instances\n",
        "scaler = StandardScaler()\n",
        "\n",
        "# Fit the StandardScaler\n",
        "X_scaler = scaler.fit(X_train)\n",
        "\n",
        "# Scale the data\n",
        "X_train_scaled = X_scaler.transform(X_train)\n",
        "X_test_scaled = X_scaler.transform(X_test)"
      ],
      "metadata": {
        "id": "sFJq57YZudlM"
      },
      "id": "sFJq57YZudlM",
      "execution_count": null,
      "outputs": []
    },
    {
      "cell_type": "code",
      "execution_count": null,
      "id": "dbf13e67",
      "metadata": {
        "id": "dbf13e67",
        "colab": {
          "base_uri": "https://localhost:8080/"
        },
        "outputId": "55779de7-72d5-4180-e0e6-118117aa4e82"
      },
      "outputs": [
        {
          "output_type": "stream",
          "name": "stdout",
          "text": [
            "Model: \"sequential_3\"\n",
            "_________________________________________________________________\n",
            " Layer (type)                Output Shape              Param #   \n",
            "=================================================================\n",
            " dense_9 (Dense)             (None, 8)                 96        \n",
            "                                                                 \n",
            " dense_10 (Dense)            (None, 6)                 54        \n",
            "                                                                 \n",
            " dense_11 (Dense)            (None, 1)                 7         \n",
            "                                                                 \n",
            "=================================================================\n",
            "Total params: 157 (628.00 Byte)\n",
            "Trainable params: 157 (628.00 Byte)\n",
            "Non-trainable params: 0 (0.00 Byte)\n",
            "_________________________________________________________________\n"
          ]
        }
      ],
      "source": [
        "# Define the model - deep neural net, i.e., the number of input features and hidden nodes for each layer.\n",
        "number_input_features = len(X_train[0])\n",
        "hidden_nodes_layer1 = 8\n",
        "hidden_nodes_layer2 = 6\n",
        "\n",
        "nn = tf.keras.models.Sequential()\n",
        "\n",
        "# First hidden layer\n",
        "nn.add(tf.keras.layers.Dense(units=hidden_nodes_layer1, input_dim=number_input_features, activation='relu'))\n",
        "\n",
        "# Second hidden layer\n",
        "nn.add(tf.keras.layers.Dense(units=hidden_nodes_layer2, activation=\"relu\"))\n",
        "\n",
        "# Output layer\n",
        "nn.add(tf.keras.layers.Dense(units=1,activation='sigmoid'))\n",
        "\n",
        "# Check the structure of the model\n",
        "nn.summary()"
      ]
    },
    {
      "cell_type": "code",
      "source": [
        "# Compile the model and train over more than 100 epochs\n",
        "nn.compile(loss=\"binary_crossentropy\", optimizer=\"adam\", metrics=[\"accuracy\"])\n",
        "fit_model = nn.fit(X_train_scaled,y_train,epochs=100)"
      ],
      "metadata": {
        "colab": {
          "base_uri": "https://localhost:8080/"
        },
        "id": "fYiH7fQpuZGn",
        "outputId": "40f0b742-52aa-4982-d5cc-400ea2c9c16e"
      },
      "id": "fYiH7fQpuZGn",
      "execution_count": null,
      "outputs": [
        {
          "output_type": "stream",
          "name": "stdout",
          "text": [
            "Epoch 1/100\n",
            "116/116 [==============================] - 1s 2ms/step - loss: 0.6658 - accuracy: 0.6542\n",
            "Epoch 2/100\n",
            "116/116 [==============================] - 0s 2ms/step - loss: 0.3626 - accuracy: 0.9530\n",
            "Epoch 3/100\n",
            "116/116 [==============================] - 0s 2ms/step - loss: 0.2433 - accuracy: 0.9590\n",
            "Epoch 4/100\n",
            "116/116 [==============================] - 0s 2ms/step - loss: 0.1913 - accuracy: 0.9590\n",
            "Epoch 5/100\n",
            "116/116 [==============================] - 0s 2ms/step - loss: 0.1684 - accuracy: 0.9590\n",
            "Epoch 6/100\n",
            "116/116 [==============================] - 0s 2ms/step - loss: 0.1582 - accuracy: 0.9590\n",
            "Epoch 7/100\n",
            "116/116 [==============================] - 0s 2ms/step - loss: 0.1528 - accuracy: 0.9590\n",
            "Epoch 8/100\n",
            "116/116 [==============================] - 0s 2ms/step - loss: 0.1497 - accuracy: 0.9590\n",
            "Epoch 9/100\n",
            "116/116 [==============================] - 0s 3ms/step - loss: 0.1474 - accuracy: 0.9590\n",
            "Epoch 10/100\n",
            "116/116 [==============================] - 0s 3ms/step - loss: 0.1457 - accuracy: 0.9590\n",
            "Epoch 11/100\n",
            "116/116 [==============================] - 0s 3ms/step - loss: 0.1445 - accuracy: 0.9590\n",
            "Epoch 12/100\n",
            "116/116 [==============================] - 0s 3ms/step - loss: 0.1433 - accuracy: 0.9590\n",
            "Epoch 13/100\n",
            "116/116 [==============================] - 0s 3ms/step - loss: 0.1423 - accuracy: 0.9590\n",
            "Epoch 14/100\n",
            "116/116 [==============================] - 0s 3ms/step - loss: 0.1415 - accuracy: 0.9590\n",
            "Epoch 15/100\n",
            "116/116 [==============================] - 0s 3ms/step - loss: 0.1407 - accuracy: 0.9590\n",
            "Epoch 16/100\n",
            "116/116 [==============================] - 0s 3ms/step - loss: 0.1400 - accuracy: 0.9590\n",
            "Epoch 17/100\n",
            "116/116 [==============================] - 0s 2ms/step - loss: 0.1392 - accuracy: 0.9590\n",
            "Epoch 18/100\n",
            "116/116 [==============================] - 0s 2ms/step - loss: 0.1385 - accuracy: 0.9590\n",
            "Epoch 19/100\n",
            "116/116 [==============================] - 0s 3ms/step - loss: 0.1380 - accuracy: 0.9590\n",
            "Epoch 20/100\n",
            "116/116 [==============================] - 0s 3ms/step - loss: 0.1375 - accuracy: 0.9590\n",
            "Epoch 21/100\n",
            "116/116 [==============================] - 0s 3ms/step - loss: 0.1371 - accuracy: 0.9590\n",
            "Epoch 22/100\n",
            "116/116 [==============================] - 0s 3ms/step - loss: 0.1366 - accuracy: 0.9590\n",
            "Epoch 23/100\n",
            "116/116 [==============================] - 0s 2ms/step - loss: 0.1367 - accuracy: 0.9590\n",
            "Epoch 24/100\n",
            "116/116 [==============================] - 0s 2ms/step - loss: 0.1360 - accuracy: 0.9590\n",
            "Epoch 25/100\n",
            "116/116 [==============================] - 0s 2ms/step - loss: 0.1356 - accuracy: 0.9590\n",
            "Epoch 26/100\n",
            "116/116 [==============================] - 0s 2ms/step - loss: 0.1353 - accuracy: 0.9590\n",
            "Epoch 27/100\n",
            "116/116 [==============================] - 0s 2ms/step - loss: 0.1351 - accuracy: 0.9590\n",
            "Epoch 28/100\n",
            "116/116 [==============================] - 0s 3ms/step - loss: 0.1348 - accuracy: 0.9590\n",
            "Epoch 29/100\n",
            "116/116 [==============================] - 0s 3ms/step - loss: 0.1351 - accuracy: 0.9590\n",
            "Epoch 30/100\n",
            "116/116 [==============================] - 0s 3ms/step - loss: 0.1346 - accuracy: 0.9590\n",
            "Epoch 31/100\n",
            "116/116 [==============================] - 0s 3ms/step - loss: 0.1343 - accuracy: 0.9590\n",
            "Epoch 32/100\n",
            "116/116 [==============================] - 0s 3ms/step - loss: 0.1341 - accuracy: 0.9590\n",
            "Epoch 33/100\n",
            "116/116 [==============================] - 0s 4ms/step - loss: 0.1339 - accuracy: 0.9590\n",
            "Epoch 34/100\n",
            "116/116 [==============================] - 0s 3ms/step - loss: 0.1337 - accuracy: 0.9590\n",
            "Epoch 35/100\n",
            "116/116 [==============================] - 0s 3ms/step - loss: 0.1336 - accuracy: 0.9590\n",
            "Epoch 36/100\n",
            "116/116 [==============================] - 0s 2ms/step - loss: 0.1336 - accuracy: 0.9590\n",
            "Epoch 37/100\n",
            "116/116 [==============================] - 0s 2ms/step - loss: 0.1334 - accuracy: 0.9590\n",
            "Epoch 38/100\n",
            "116/116 [==============================] - 0s 2ms/step - loss: 0.1333 - accuracy: 0.9590\n",
            "Epoch 39/100\n",
            "116/116 [==============================] - 0s 2ms/step - loss: 0.1331 - accuracy: 0.9590\n",
            "Epoch 40/100\n",
            "116/116 [==============================] - 0s 2ms/step - loss: 0.1332 - accuracy: 0.9590\n",
            "Epoch 41/100\n",
            "116/116 [==============================] - 0s 2ms/step - loss: 0.1329 - accuracy: 0.9590\n",
            "Epoch 42/100\n",
            "116/116 [==============================] - 0s 2ms/step - loss: 0.1329 - accuracy: 0.9590\n",
            "Epoch 43/100\n",
            "116/116 [==============================] - 0s 2ms/step - loss: 0.1326 - accuracy: 0.9590\n",
            "Epoch 44/100\n",
            "116/116 [==============================] - 0s 2ms/step - loss: 0.1325 - accuracy: 0.9590\n",
            "Epoch 45/100\n",
            "116/116 [==============================] - 0s 2ms/step - loss: 0.1325 - accuracy: 0.9590\n",
            "Epoch 46/100\n",
            "116/116 [==============================] - 0s 2ms/step - loss: 0.1325 - accuracy: 0.9590\n",
            "Epoch 47/100\n",
            "116/116 [==============================] - 0s 2ms/step - loss: 0.1323 - accuracy: 0.9590\n",
            "Epoch 48/100\n",
            "116/116 [==============================] - 0s 2ms/step - loss: 0.1322 - accuracy: 0.9590\n",
            "Epoch 49/100\n",
            "116/116 [==============================] - 0s 2ms/step - loss: 0.1323 - accuracy: 0.9590\n",
            "Epoch 50/100\n",
            "116/116 [==============================] - 0s 2ms/step - loss: 0.1320 - accuracy: 0.9590\n",
            "Epoch 51/100\n",
            "116/116 [==============================] - 0s 2ms/step - loss: 0.1321 - accuracy: 0.9590\n",
            "Epoch 52/100\n",
            "116/116 [==============================] - 0s 2ms/step - loss: 0.1318 - accuracy: 0.9590\n",
            "Epoch 53/100\n",
            "116/116 [==============================] - 0s 2ms/step - loss: 0.1318 - accuracy: 0.9590\n",
            "Epoch 54/100\n",
            "116/116 [==============================] - 0s 2ms/step - loss: 0.1317 - accuracy: 0.9590\n",
            "Epoch 55/100\n",
            "116/116 [==============================] - 0s 2ms/step - loss: 0.1314 - accuracy: 0.9590\n",
            "Epoch 56/100\n",
            "116/116 [==============================] - 0s 2ms/step - loss: 0.1313 - accuracy: 0.9590\n",
            "Epoch 57/100\n",
            "116/116 [==============================] - 0s 2ms/step - loss: 0.1313 - accuracy: 0.9590\n",
            "Epoch 58/100\n",
            "116/116 [==============================] - 0s 2ms/step - loss: 0.1313 - accuracy: 0.9590\n",
            "Epoch 59/100\n",
            "116/116 [==============================] - 0s 2ms/step - loss: 0.1311 - accuracy: 0.9590\n",
            "Epoch 60/100\n",
            "116/116 [==============================] - 0s 2ms/step - loss: 0.1312 - accuracy: 0.9590\n",
            "Epoch 61/100\n",
            "116/116 [==============================] - 0s 2ms/step - loss: 0.1309 - accuracy: 0.9590\n",
            "Epoch 62/100\n",
            "116/116 [==============================] - 0s 2ms/step - loss: 0.1307 - accuracy: 0.9590\n",
            "Epoch 63/100\n",
            "116/116 [==============================] - 0s 2ms/step - loss: 0.1307 - accuracy: 0.9590\n",
            "Epoch 64/100\n",
            "116/116 [==============================] - 0s 2ms/step - loss: 0.1307 - accuracy: 0.9590\n",
            "Epoch 65/100\n",
            "116/116 [==============================] - 0s 3ms/step - loss: 0.1303 - accuracy: 0.9590\n",
            "Epoch 66/100\n",
            "116/116 [==============================] - 0s 2ms/step - loss: 0.1304 - accuracy: 0.9590\n",
            "Epoch 67/100\n",
            "116/116 [==============================] - 0s 2ms/step - loss: 0.1302 - accuracy: 0.9590\n",
            "Epoch 68/100\n",
            "116/116 [==============================] - 0s 2ms/step - loss: 0.1302 - accuracy: 0.9590\n",
            "Epoch 69/100\n",
            "116/116 [==============================] - 0s 2ms/step - loss: 0.1301 - accuracy: 0.9590\n",
            "Epoch 70/100\n",
            "116/116 [==============================] - 0s 2ms/step - loss: 0.1300 - accuracy: 0.9590\n",
            "Epoch 71/100\n",
            "116/116 [==============================] - 0s 2ms/step - loss: 0.1300 - accuracy: 0.9590\n",
            "Epoch 72/100\n",
            "116/116 [==============================] - 0s 2ms/step - loss: 0.1300 - accuracy: 0.9590\n",
            "Epoch 73/100\n",
            "116/116 [==============================] - 0s 2ms/step - loss: 0.1299 - accuracy: 0.9590\n",
            "Epoch 74/100\n",
            "116/116 [==============================] - 0s 2ms/step - loss: 0.1300 - accuracy: 0.9590\n",
            "Epoch 75/100\n",
            "116/116 [==============================] - 0s 2ms/step - loss: 0.1295 - accuracy: 0.9590\n",
            "Epoch 76/100\n",
            "116/116 [==============================] - 0s 2ms/step - loss: 0.1296 - accuracy: 0.9590\n",
            "Epoch 77/100\n",
            "116/116 [==============================] - 0s 3ms/step - loss: 0.1295 - accuracy: 0.9590\n",
            "Epoch 78/100\n",
            "116/116 [==============================] - 0s 3ms/step - loss: 0.1293 - accuracy: 0.9590\n",
            "Epoch 79/100\n",
            "116/116 [==============================] - 0s 3ms/step - loss: 0.1293 - accuracy: 0.9590\n",
            "Epoch 80/100\n",
            "116/116 [==============================] - 0s 3ms/step - loss: 0.1292 - accuracy: 0.9590\n",
            "Epoch 81/100\n",
            "116/116 [==============================] - 0s 2ms/step - loss: 0.1291 - accuracy: 0.9590\n",
            "Epoch 82/100\n",
            "116/116 [==============================] - 0s 2ms/step - loss: 0.1289 - accuracy: 0.9590\n",
            "Epoch 83/100\n",
            "116/116 [==============================] - 0s 2ms/step - loss: 0.1289 - accuracy: 0.9590\n",
            "Epoch 84/100\n",
            "116/116 [==============================] - 0s 3ms/step - loss: 0.1287 - accuracy: 0.9590\n",
            "Epoch 85/100\n",
            "116/116 [==============================] - 0s 3ms/step - loss: 0.1287 - accuracy: 0.9590\n",
            "Epoch 86/100\n",
            "116/116 [==============================] - 0s 3ms/step - loss: 0.1285 - accuracy: 0.9590\n",
            "Epoch 87/100\n",
            "116/116 [==============================] - 0s 3ms/step - loss: 0.1288 - accuracy: 0.9590\n",
            "Epoch 88/100\n",
            "116/116 [==============================] - 0s 3ms/step - loss: 0.1284 - accuracy: 0.9590\n",
            "Epoch 89/100\n",
            "116/116 [==============================] - 0s 2ms/step - loss: 0.1283 - accuracy: 0.9590\n",
            "Epoch 90/100\n",
            "116/116 [==============================] - 0s 3ms/step - loss: 0.1283 - accuracy: 0.9590\n",
            "Epoch 91/100\n",
            "116/116 [==============================] - 0s 3ms/step - loss: 0.1282 - accuracy: 0.9590\n",
            "Epoch 92/100\n",
            "116/116 [==============================] - 0s 3ms/step - loss: 0.1282 - accuracy: 0.9590\n",
            "Epoch 93/100\n",
            "116/116 [==============================] - 0s 2ms/step - loss: 0.1280 - accuracy: 0.9590\n",
            "Epoch 94/100\n",
            "116/116 [==============================] - 0s 2ms/step - loss: 0.1279 - accuracy: 0.9590\n",
            "Epoch 95/100\n",
            "116/116 [==============================] - 0s 2ms/step - loss: 0.1282 - accuracy: 0.9590\n",
            "Epoch 96/100\n",
            "116/116 [==============================] - 0s 2ms/step - loss: 0.1278 - accuracy: 0.9590\n",
            "Epoch 97/100\n",
            "116/116 [==============================] - 0s 2ms/step - loss: 0.1277 - accuracy: 0.9590\n",
            "Epoch 98/100\n",
            "116/116 [==============================] - 0s 2ms/step - loss: 0.1276 - accuracy: 0.9590\n",
            "Epoch 99/100\n",
            "116/116 [==============================] - 0s 2ms/step - loss: 0.1275 - accuracy: 0.9590\n",
            "Epoch 100/100\n",
            "116/116 [==============================] - 0s 2ms/step - loss: 0.1274 - accuracy: 0.9590\n"
          ]
        }
      ]
    },
    {
      "cell_type": "code",
      "source": [
        "# Evaluate the model using the test data\n",
        "model_loss, model_accuracy = nn.evaluate(X_test_scaled,y_test,verbose=2)\n",
        "print(f\"Loss: {model_loss}, Accuracy: {model_accuracy}\")"
      ],
      "metadata": {
        "colab": {
          "base_uri": "https://localhost:8080/"
        },
        "id": "YfgeL9ojxqeO",
        "outputId": "77f882d4-63f1-444c-90b4-416e9c64ff23"
      },
      "id": "YfgeL9ojxqeO",
      "execution_count": null,
      "outputs": [
        {
          "output_type": "stream",
          "name": "stdout",
          "text": [
            "39/39 - 0s - loss: 0.1632 - accuracy: 0.9528 - 317ms/epoch - 8ms/step\n",
            "Loss: 0.1631903499364853, Accuracy: 0.9527687430381775\n"
          ]
        }
      ]
    },
    {
      "cell_type": "code",
      "source": [
        "nn.save(\"StrokePrediction.h5\")"
      ],
      "metadata": {
        "id": "B4_p2kh90U4D"
      },
      "id": "B4_p2kh90U4D",
      "execution_count": null,
      "outputs": []
    }
  ],
  "metadata": {
    "kernelspec": {
      "display_name": "Python 3 (ipykernel)",
      "language": "python",
      "name": "python3"
    },
    "language_info": {
      "codemirror_mode": {
        "name": "ipython",
        "version": 3
      },
      "file_extension": ".py",
      "mimetype": "text/x-python",
      "name": "python",
      "nbconvert_exporter": "python",
      "pygments_lexer": "ipython3",
      "version": "3.10.11"
    },
    "colab": {
      "provenance": []
    }
  },
  "nbformat": 4,
  "nbformat_minor": 5
}